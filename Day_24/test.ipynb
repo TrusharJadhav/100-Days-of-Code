{
 "cells": [
  {
   "cell_type": "code",
   "execution_count": 18,
   "id": "52bf6559",
   "metadata": {},
   "outputs": [
    {
     "name": "stdout",
     "output_type": "stream",
     "text": [
      "12\n"
     ]
    }
   ],
   "source": [
    "with open('high_score.txt', 'r') as file:\n",
    "    content = file.read()\n",
    "\n",
    "print(content)\n",
    "high_score='12'\n",
    "with open('high_score.txt', 'w') as file:\n",
    "    file.write(high_score)\n"
   ]
  },
  {
   "cell_type": "code",
   "execution_count": 14,
   "id": "c01b7f20",
   "metadata": {},
   "outputs": [
    {
     "data": {
      "text/plain": [
       "str"
      ]
     },
     "execution_count": 14,
     "metadata": {},
     "output_type": "execute_result"
    }
   ],
   "source": [
    "type(content)"
   ]
  }
 ],
 "metadata": {
  "kernelspec": {
   "display_name": "base",
   "language": "python",
   "name": "python3"
  },
  "language_info": {
   "codemirror_mode": {
    "name": "ipython",
    "version": 3
   },
   "file_extension": ".py",
   "mimetype": "text/x-python",
   "name": "python",
   "nbconvert_exporter": "python",
   "pygments_lexer": "ipython3",
   "version": "3.13.5"
  }
 },
 "nbformat": 4,
 "nbformat_minor": 5
}

{
 "cells": [
  {
   "cell_type": "code",
   "execution_count": 6,
   "id": "cf9fb78f",
   "metadata": {},
   "outputs": [
    {
     "name": "stdout",
     "output_type": "stream",
     "text": [
      "Welcome to Tip Calcualor!\n",
      "Each person should pay: $5.75\n"
     ]
    }
   ],
   "source": [
    "print(\"Welcome to Tip Calcualor!\")\n",
    "Bill=float(input(\"What was the Total Bill:   $\"))\n",
    "Tip=int(input(\"How much tip would you like to give? 10,12, or 15?\"))\n",
    "Split=int(input(\"How many people to split the bill\"))\n",
    "share=round(Bill*(1+Tip/100)/Split,2)\n",
    "print(f\"Each person should pay: ${share}\")\n"
   ]
  }
 ],
 "metadata": {
  "kernelspec": {
   "display_name": "base",
   "language": "python",
   "name": "python3"
  },
  "language_info": {
   "codemirror_mode": {
    "name": "ipython",
    "version": 3
   },
   "file_extension": ".py",
   "mimetype": "text/x-python",
   "name": "python",
   "nbconvert_exporter": "python",
   "pygments_lexer": "ipython3",
   "version": "3.13.5"
  }
 },
 "nbformat": 4,
 "nbformat_minor": 5
}
